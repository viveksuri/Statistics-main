{
 "cells": [
  {
   "cell_type": "code",
   "execution_count": 1,
   "id": "865192a2",
   "metadata": {},
   "outputs": [],
   "source": [
    "import numpy as np\n",
    "import scipy.stats as st"
   ]
  },
  {
   "cell_type": "code",
   "execution_count": 3,
   "id": "689c1725",
   "metadata": {},
   "outputs": [],
   "source": [
    "data = [1,1,1,2,2,2,3,3,3,3,\n",
    "       3,4,4,5,5,5,6,7,8,10]"
   ]
  },
  {
   "cell_type": "code",
   "execution_count": 4,
   "id": "f3be4bf5",
   "metadata": {},
   "outputs": [
    {
     "data": {
      "text/plain": [
       "[1, 1, 1, 2, 2, 2, 3, 3, 3, 3, 3, 4, 4, 5, 5, 5, 6, 7, 8, 10]"
      ]
     },
     "execution_count": 4,
     "metadata": {},
     "output_type": "execute_result"
    }
   ],
   "source": [
    "data"
   ]
  },
  {
   "cell_type": "markdown",
   "id": "0d930185",
   "metadata": {},
   "source": [
    "# Calculate the 90% confidence Intervals of the data set of size(n=20) using the t Distribution using the t.interval() function and passing the alpha parameter to 0.90 in the python."
   ]
  },
  {
   "cell_type": "code",
   "execution_count": 10,
   "id": "37816402",
   "metadata": {},
   "outputs": [
    {
     "data": {
      "text/plain": [
       "(6.7205815026341496, 7.19941849736585)"
      ]
     },
     "execution_count": 10,
     "metadata": {},
     "output_type": "execute_result"
    }
   ],
   "source": [
    "st.t.interval(confidence = 0.90,df = len(data)-1,loc = np.mean(data),scale = st.sem(data))"
   ]
  },
  {
   "cell_type": "code",
   "execution_count": 6,
   "id": "1265bcfc",
   "metadata": {},
   "outputs": [
    {
     "data": {
      "text/plain": [
       "3.9"
      ]
     },
     "execution_count": 6,
     "metadata": {},
     "output_type": "execute_result"
    }
   ],
   "source": [
    "np.mean(data)"
   ]
  },
  {
   "cell_type": "markdown",
   "id": "a5fa1192",
   "metadata": {},
   "source": [
    "## Calculate the 90% confidence Intervals of the random data set of size(n=100) using the norm Distribution using the norm.interval() function and passing the alpha parameter to 0.90 in the python."
   ]
  },
  {
   "cell_type": "code",
   "execution_count": 16,
   "id": "c26d4855",
   "metadata": {},
   "outputs": [],
   "source": [
    "np.random.seed(0)\n",
    "data2 = np.random.randint(5, 10, 100) "
   ]
  },
  {
   "cell_type": "code",
   "execution_count": 17,
   "id": "3fc043f1",
   "metadata": {},
   "outputs": [
    {
     "data": {
      "text/plain": [
       "(6.722821921612098, 7.197178078387902)"
      ]
     },
     "execution_count": 17,
     "metadata": {},
     "output_type": "execute_result"
    }
   ],
   "source": [
    "st.norm.interval(confidence = 0.90,loc = np.mean(data2), scale=st.sem(data2))"
   ]
  },
  {
   "cell_type": "code",
   "execution_count": 18,
   "id": "782f8c23",
   "metadata": {},
   "outputs": [
    {
     "data": {
      "text/plain": [
       "6.96"
      ]
     },
     "execution_count": 18,
     "metadata": {},
     "output_type": "execute_result"
    }
   ],
   "source": [
    "np.mean(data2)"
   ]
  },
  {
   "cell_type": "code",
   "execution_count": null,
   "id": "b216d7f4",
   "metadata": {},
   "outputs": [],
   "source": []
  }
 ],
 "metadata": {
  "kernelspec": {
   "display_name": "Python 3 (ipykernel)",
   "language": "python",
   "name": "python3"
  },
  "language_info": {
   "codemirror_mode": {
    "name": "ipython",
    "version": 3
   },
   "file_extension": ".py",
   "mimetype": "text/x-python",
   "name": "python",
   "nbconvert_exporter": "python",
   "pygments_lexer": "ipython3",
   "version": "3.9.13"
  }
 },
 "nbformat": 4,
 "nbformat_minor": 5
}
