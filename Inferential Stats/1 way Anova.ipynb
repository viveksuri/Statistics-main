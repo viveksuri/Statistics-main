{
 "cells": [
  {
   "cell_type": "code",
   "execution_count": 1,
   "id": "f7387d66",
   "metadata": {},
   "outputs": [],
   "source": [
    "from scipy.stats import f_oneway"
   ]
  },
  {
   "cell_type": "code",
   "execution_count": 3,
   "id": "c24c86e9",
   "metadata": {},
   "outputs": [],
   "source": [
    "e = [2,4,2]\n",
    "m =[2,3,4]\n",
    "s = [1,2,5]"
   ]
  },
  {
   "cell_type": "code",
   "execution_count": 6,
   "id": "8522c924",
   "metadata": {},
   "outputs": [],
   "source": [
    "stat, p_value = f_oneway(e,m,s)"
   ]
  },
  {
   "cell_type": "code",
   "execution_count": 7,
   "id": "1dfcf5de",
   "metadata": {},
   "outputs": [
    {
     "data": {
      "text/plain": [
       "(0.04999999999999999, 0.9516215013591449)"
      ]
     },
     "execution_count": 7,
     "metadata": {},
     "output_type": "execute_result"
    }
   ],
   "source": [
    "stat, p_value"
   ]
  },
  {
   "cell_type": "code",
   "execution_count": 8,
   "id": "6c30a695",
   "metadata": {},
   "outputs": [],
   "source": [
    "alpha = 0.05"
   ]
  },
  {
   "cell_type": "code",
   "execution_count": 11,
   "id": "d1acc094",
   "metadata": {},
   "outputs": [
    {
     "name": "stdout",
     "output_type": "stream",
     "text": [
      "We failed to reject the null hypothesis\n"
     ]
    }
   ],
   "source": [
    "if (p_value < alpha):\n",
    "    print(\"Reject the null hypothesis\")\n",
    "else:\n",
    "    print(\"We failed to reject the null hypothesis\")"
   ]
  },
  {
   "cell_type": "markdown",
   "id": "a3c98d86",
   "metadata": {},
   "source": [
    "Performance when each of the engine with different types of oil is applied"
   ]
  },
  {
   "cell_type": "code",
   "execution_count": 12,
   "id": "46e671b9",
   "metadata": {},
   "outputs": [],
   "source": [
    "performance1 = [89, 89, 88, 78, 79]\n",
    "performance2 = [93, 92, 94, 89, 88]\n",
    "performance3 = [89, 88, 89, 93, 90]\n",
    "performance4 = [81, 78, 81, 92, 82]"
   ]
  },
  {
   "cell_type": "code",
   "execution_count": 13,
   "id": "a6128aa4",
   "metadata": {},
   "outputs": [],
   "source": [
    "alpha = 0.05"
   ]
  },
  {
   "cell_type": "code",
   "execution_count": 14,
   "id": "348d2ecd",
   "metadata": {},
   "outputs": [],
   "source": [
    "stat, pvalue = f_oneway(performance1, performance2, performance3, performance4)"
   ]
  },
  {
   "cell_type": "code",
   "execution_count": 15,
   "id": "8251e4b5",
   "metadata": {},
   "outputs": [
    {
     "data": {
      "text/plain": [
       "(4.625000000000002, 0.016336459839780215)"
      ]
     },
     "execution_count": 15,
     "metadata": {},
     "output_type": "execute_result"
    }
   ],
   "source": [
    "stat, pvalue"
   ]
  },
  {
   "cell_type": "code",
   "execution_count": 16,
   "id": "c9d8e494",
   "metadata": {},
   "outputs": [
    {
     "name": "stdout",
     "output_type": "stream",
     "text": [
      "Reject the null Hypothesis\n"
     ]
    }
   ],
   "source": [
    "if(pvalue < alpha):\n",
    "    print(\"Reject the null Hypothesis\")\n",
    "else:\n",
    "    print(\"Failed to reject the null Hypothesis\")"
   ]
  },
  {
   "cell_type": "markdown",
   "id": "880d50c0",
   "metadata": {},
   "source": [
    "This implies that we have sufficient proof to say that there exists a difference in the performance among four different engine oils."
   ]
  },
  {
   "cell_type": "code",
   "execution_count": null,
   "id": "368cbe03",
   "metadata": {},
   "outputs": [],
   "source": []
  }
 ],
 "metadata": {
  "kernelspec": {
   "display_name": "Python 3 (ipykernel)",
   "language": "python",
   "name": "python3"
  },
  "language_info": {
   "codemirror_mode": {
    "name": "ipython",
    "version": 3
   },
   "file_extension": ".py",
   "mimetype": "text/x-python",
   "name": "python",
   "nbconvert_exporter": "python",
   "pygments_lexer": "ipython3",
   "version": "3.9.13"
  }
 },
 "nbformat": 4,
 "nbformat_minor": 5
}
