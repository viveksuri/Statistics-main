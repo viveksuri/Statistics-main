{
 "cells": [
  {
   "cell_type": "code",
   "execution_count": 3,
   "id": "e432fdd8",
   "metadata": {},
   "outputs": [],
   "source": [
    "import numpy as np\n",
    "from numpy.random import randn\n",
    "import scipy.stats as stats"
   ]
  },
  {
   "cell_type": "markdown",
   "id": "e78e04c3",
   "metadata": {},
   "source": [
    "Q. A school claimed that students study that is more intelligent than average\n",
    "school on calculating the IQ Score of 30 students.The average turn out to be \n",
    "140 and standard deviation is 20.The mean of population IQ of 100.\n",
    "State whether the claim of priciple is right or not at a 5% significance level?"
   ]
  },
  {
   "cell_type": "code",
   "execution_count": 11,
   "id": "953206ab",
   "metadata": {},
   "outputs": [],
   "source": [
    "sample_mean = 140\n",
    "sample_sd = 20\n",
    "data = sample_sd*randn(30)+sample_mean"
   ]
  },
  {
   "cell_type": "code",
   "execution_count": 13,
   "id": "8ac7a976",
   "metadata": {},
   "outputs": [
    {
     "name": "stdout",
     "output_type": "stream",
     "text": [
      "141.59153925894114 17.934793954350134\n"
     ]
    }
   ],
   "source": [
    "print(np.mean(data),(np.std(data)))"
   ]
  },
  {
   "cell_type": "code",
   "execution_count": 25,
   "id": "2394fbc3",
   "metadata": {},
   "outputs": [
    {
     "name": "stdout",
     "output_type": "stream",
     "text": [
      "mean=141.59 stdv=17.93\n"
     ]
    }
   ],
   "source": [
    "print('mean=%.2f stdv=%.2f' % (np.mean(data), np.std(data)))"
   ]
  },
  {
   "cell_type": "code",
   "execution_count": 15,
   "id": "d2713628",
   "metadata": {},
   "outputs": [],
   "source": [
    "t_statistic, p_value = stats.ttest_1samp(a = data,popmean = 100)"
   ]
  },
  {
   "cell_type": "code",
   "execution_count": 16,
   "id": "51f24932",
   "metadata": {},
   "outputs": [
    {
     "data": {
      "text/plain": [
       "(12.48842300959229, 3.4164796293216966e-13)"
      ]
     },
     "execution_count": 16,
     "metadata": {},
     "output_type": "execute_result"
    }
   ],
   "source": [
    "t_statistic, p_value"
   ]
  },
  {
   "cell_type": "code",
   "execution_count": 17,
   "id": "f3a6779c",
   "metadata": {},
   "outputs": [],
   "source": [
    "alpha = 0.05"
   ]
  },
  {
   "cell_type": "code",
   "execution_count": 18,
   "id": "e0ffb639",
   "metadata": {},
   "outputs": [
    {
     "name": "stdout",
     "output_type": "stream",
     "text": [
      "Reject Null Hypothesis\n"
     ]
    }
   ],
   "source": [
    "if(p_value <  alpha):\n",
    "  print(\"Reject Null Hypothesis\")\n",
    "else:\n",
    "  print(\"Fail to Reject NUll Hypothesis\")\n"
   ]
  },
  {
   "cell_type": "markdown",
   "id": "f2ab1cfb",
   "metadata": {},
   "source": [
    "Q. Suppose we are interested in determine whether the average weight of\n",
    "certain breed of dog is significance difference from a target weight of \n",
    "25 pounds.We randomly select a sample of 20 dogs from this breed and \n",
    "weight then and get the mean 24 pounds and standard deviation is 0.7.\n",
    "State whether the claim we made is right or not at a 5% significance level?"
   ]
  },
  {
   "cell_type": "code",
   "execution_count": 19,
   "id": "eb53e4c0",
   "metadata": {},
   "outputs": [],
   "source": [
    "sample_mean = 24\n",
    "sample_sd = 0.7\n",
    "data2 = sample_sd*randn(20)+sample_mean"
   ]
  },
  {
   "cell_type": "code",
   "execution_count": 20,
   "id": "75d048ed",
   "metadata": {},
   "outputs": [
    {
     "name": "stdout",
     "output_type": "stream",
     "text": [
      "23.83334779719098 0.550179647365451\n"
     ]
    }
   ],
   "source": [
    "print(np.mean(data2),np.std(data2))"
   ]
  },
  {
   "cell_type": "code",
   "execution_count": 24,
   "id": "a9099256",
   "metadata": {},
   "outputs": [
    {
     "name": "stdout",
     "output_type": "stream",
     "text": [
      "mean=23.83 stdv=0.55\n"
     ]
    }
   ],
   "source": [
    "print('mean=%.2f stdv=%.2f' % (np.mean(data2), np.std(data2)))"
   ]
  },
  {
   "cell_type": "code",
   "execution_count": 21,
   "id": "f97dd169",
   "metadata": {},
   "outputs": [],
   "source": [
    "t_statistic, p_value = stats.ttest_1samp(a=data2, popmean=25)\n"
   ]
  },
  {
   "cell_type": "code",
   "execution_count": 22,
   "id": "b325490d",
   "metadata": {},
   "outputs": [
    {
     "data": {
      "text/plain": [
       "(-9.24301558346407, 1.8414076428605646e-08)"
      ]
     },
     "execution_count": 22,
     "metadata": {},
     "output_type": "execute_result"
    }
   ],
   "source": [
    "t_statistic, p_value"
   ]
  },
  {
   "cell_type": "code",
   "execution_count": 23,
   "id": "9c31844a",
   "metadata": {},
   "outputs": [
    {
     "name": "stdout",
     "output_type": "stream",
     "text": [
      "Reject Null Hypothesis\n"
     ]
    }
   ],
   "source": [
    "if(p_value <  alpha):\n",
    "  print(\"Reject Null Hypothesis\")\n",
    "else:\n",
    "  print(\"Fail to Reject NUll Hypothesis\")"
   ]
  },
  {
   "cell_type": "code",
   "execution_count": null,
   "id": "a41b15b2",
   "metadata": {},
   "outputs": [],
   "source": []
  }
 ],
 "metadata": {
  "kernelspec": {
   "display_name": "Python 3 (ipykernel)",
   "language": "python",
   "name": "python3"
  },
  "language_info": {
   "codemirror_mode": {
    "name": "ipython",
    "version": 3
   },
   "file_extension": ".py",
   "mimetype": "text/x-python",
   "name": "python",
   "nbconvert_exporter": "python",
   "pygments_lexer": "ipython3",
   "version": "3.9.13"
  }
 },
 "nbformat": 4,
 "nbformat_minor": 5
}
