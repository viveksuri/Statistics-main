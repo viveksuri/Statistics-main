{
 "cells": [
  {
   "cell_type": "code",
   "execution_count": 1,
   "id": "922fccbc",
   "metadata": {},
   "outputs": [],
   "source": [
    "from scipy.stats import chisquare"
   ]
  },
  {
   "cell_type": "markdown",
   "id": "a5ccf0ca",
   "metadata": {},
   "source": [
    "Q. Ninety - six subjects are asked to express their attitude towords the\n",
    "proposition \"should AIDS education be integrated in the circulum of higher secondary stage\"\n",
    "by making f(favorable),i(indiferent),u(unfavorable).\n",
    "\n",
    "observed   48   24  24\n",
    "\n",
    "expected   32   32  32\n",
    "\n",
    "Test hypothesis that \"there is no difference b/w performance in the group\""
   ]
  },
  {
   "cell_type": "code",
   "execution_count": 17,
   "id": "ac991688",
   "metadata": {},
   "outputs": [],
   "source": [
    "chi_square, pvalue =chisquare([48,24,24])\n"
   ]
  },
  {
   "cell_type": "code",
   "execution_count": 18,
   "id": "754a0a54",
   "metadata": {},
   "outputs": [
    {
     "data": {
      "text/plain": [
       "(12.0, 0.002478752176666357)"
      ]
     },
     "execution_count": 18,
     "metadata": {},
     "output_type": "execute_result"
    }
   ],
   "source": [
    "chi_square, pvalue"
   ]
  },
  {
   "cell_type": "code",
   "execution_count": 19,
   "id": "f8b169e8",
   "metadata": {},
   "outputs": [],
   "source": [
    "alpha = 0.05"
   ]
  },
  {
   "cell_type": "code",
   "execution_count": 20,
   "id": "41ce0d5d",
   "metadata": {},
   "outputs": [
    {
     "name": "stdout",
     "output_type": "stream",
     "text": [
      "Dependent (reject H0)\n"
     ]
    }
   ],
   "source": [
    "if (pvalue < alpha):\n",
    "    print('Dependent (reject H0)')\n",
    "else:\n",
    "    print('Independent (H0 holds true)')"
   ]
  },
  {
   "cell_type": "markdown",
   "id": "cdb78b5f",
   "metadata": {},
   "source": [
    "Q. Two hundred bolts were selected at random from the output of each of\n",
    "the five machines The number of defective bolts found where 5,9,13,7 & 6.\n",
    "Is there a singificance difference among the machines? Use 5% level of singificance?"
   ]
  },
  {
   "cell_type": "code",
   "execution_count": 13,
   "id": "f88cfa63",
   "metadata": {},
   "outputs": [],
   "source": [
    "chi_square2, pvalue2 =chisquare([5,9,13,7,6])"
   ]
  },
  {
   "cell_type": "code",
   "execution_count": 14,
   "id": "4f220395",
   "metadata": {},
   "outputs": [
    {
     "data": {
      "text/plain": [
       "(5.0, 0.2872974951836458)"
      ]
     },
     "execution_count": 14,
     "metadata": {},
     "output_type": "execute_result"
    }
   ],
   "source": [
    "chi_square2, pvalue2"
   ]
  },
  {
   "cell_type": "code",
   "execution_count": 15,
   "id": "52faa8a4",
   "metadata": {},
   "outputs": [],
   "source": [
    "alpha = 0.05"
   ]
  },
  {
   "cell_type": "code",
   "execution_count": 16,
   "id": "73508df7",
   "metadata": {},
   "outputs": [
    {
     "name": "stdout",
     "output_type": "stream",
     "text": [
      "Independent (H0 holds true)\n"
     ]
    }
   ],
   "source": [
    "if (pvalue2 < alpha):\n",
    "    print('Dependent (reject H0)')\n",
    "else:\n",
    "    print('Independent (H0 holds true)')"
   ]
  },
  {
   "cell_type": "code",
   "execution_count": 21,
   "id": "7a8830ab",
   "metadata": {},
   "outputs": [],
   "source": [
    "#Onther Question"
   ]
  },
  {
   "cell_type": "code",
   "execution_count": 22,
   "id": "3a2c0846",
   "metadata": {},
   "outputs": [],
   "source": [
    "from scipy.stats import chi2_contingency"
   ]
  },
  {
   "cell_type": "code",
   "execution_count": 23,
   "id": "c6b53e2e",
   "metadata": {},
   "outputs": [],
   "source": [
    "data = [[207,282,241],[234,242,232]]\n"
   ]
  },
  {
   "cell_type": "code",
   "execution_count": 24,
   "id": "afce3ee1",
   "metadata": {},
   "outputs": [],
   "source": [
    "stat, pvalue,dof,exp_freq =chi2_contingency(data)"
   ]
  },
  {
   "cell_type": "code",
   "execution_count": 25,
   "id": "b14c62d1",
   "metadata": {},
   "outputs": [
    {
     "data": {
      "text/plain": [
       "(4.542228269825232,\n",
       " 0.1031971404730939,\n",
       " 2,\n",
       " array([[223.87343533, 266.00834492, 240.11821975],\n",
       "        [217.12656467, 257.99165508, 232.88178025]]))"
      ]
     },
     "execution_count": 25,
     "metadata": {},
     "output_type": "execute_result"
    }
   ],
   "source": [
    "stat, pvalue,dof,exp_freq"
   ]
  },
  {
   "cell_type": "code",
   "execution_count": 26,
   "id": "1e70691d",
   "metadata": {},
   "outputs": [],
   "source": [
    "# Another Question"
   ]
  },
  {
   "cell_type": "code",
   "execution_count": 27,
   "id": "89ce2bdc",
   "metadata": {},
   "outputs": [],
   "source": [
    "outlook_data = [[2,3],[4,0],[3,2]]\n"
   ]
  },
  {
   "cell_type": "code",
   "execution_count": 28,
   "id": "97eee855",
   "metadata": {},
   "outputs": [
    {
     "data": {
      "text/plain": [
       "(3.546666666666666,\n",
       " 0.16976615743981124,\n",
       " 2,\n",
       " array([[3.21428571, 1.78571429],\n",
       "        [2.57142857, 1.42857143],\n",
       "        [3.21428571, 1.78571429]]))"
      ]
     },
     "execution_count": 28,
     "metadata": {},
     "output_type": "execute_result"
    }
   ],
   "source": [
    "chi2_contingency(outlook_data)"
   ]
  },
  {
   "cell_type": "code",
   "execution_count": 29,
   "id": "04653729",
   "metadata": {},
   "outputs": [],
   "source": [
    "wind_data = [[3,3],[6,2]]"
   ]
  },
  {
   "cell_type": "code",
   "execution_count": 30,
   "id": "6395b663",
   "metadata": {},
   "outputs": [
    {
     "data": {
      "text/plain": [
       "(0.16203703703703703,\n",
       " 0.687287949348002,\n",
       " 1,\n",
       " array([[3.85714286, 2.14285714],\n",
       "        [5.14285714, 2.85714286]]))"
      ]
     },
     "execution_count": 30,
     "metadata": {},
     "output_type": "execute_result"
    }
   ],
   "source": [
    "chi2_contingency(wind_data)"
   ]
  },
  {
   "cell_type": "code",
   "execution_count": 31,
   "id": "87f9f52e",
   "metadata": {},
   "outputs": [],
   "source": [
    "obs = [3,3,6,2]\n",
    "exp = [3.85714286, 2.14285714, 5.14285714, 2.85714286]"
   ]
  },
  {
   "cell_type": "code",
   "execution_count": 32,
   "id": "3c25d691",
   "metadata": {},
   "outputs": [
    {
     "data": {
      "text/plain": [
       "Power_divergenceResult(statistic=0.9333333396938274, pvalue=0.8173771570701455)"
      ]
     },
     "execution_count": 32,
     "metadata": {},
     "output_type": "execute_result"
    }
   ],
   "source": [
    "chisquare(obs,exp)"
   ]
  },
  {
   "cell_type": "code",
   "execution_count": null,
   "id": "b70a6a71",
   "metadata": {},
   "outputs": [],
   "source": []
  }
 ],
 "metadata": {
  "kernelspec": {
   "display_name": "Python 3 (ipykernel)",
   "language": "python",
   "name": "python3"
  },
  "language_info": {
   "codemirror_mode": {
    "name": "ipython",
    "version": 3
   },
   "file_extension": ".py",
   "mimetype": "text/x-python",
   "name": "python",
   "nbconvert_exporter": "python",
   "pygments_lexer": "ipython3",
   "version": "3.9.13"
  }
 },
 "nbformat": 4,
 "nbformat_minor": 5
}
