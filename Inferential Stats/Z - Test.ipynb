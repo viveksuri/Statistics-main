{
 "cells": [
  {
   "cell_type": "code",
   "execution_count": 3,
   "id": "1380487a",
   "metadata": {},
   "outputs": [],
   "source": [
    "import math\n",
    "import numpy as np \n",
    "from numpy.random import randn\n",
    "import scipy"
   ]
  },
  {
   "cell_type": "markdown",
   "id": "82e65f49",
   "metadata": {},
   "source": [
    "A school claimed that the student's study is more intelligent than the averege school.\n",
    "On calculating the IQ score of 50 student's the average turns out to be 110.The mean\n",
    "of the population IQ is 100 and standard deviation is 15 state whether the claim of\n",
    "priciple is right or not at 5% significance level?\n"
   ]
  },
  {
   "cell_type": "code",
   "execution_count": 4,
   "id": "9e2a9337",
   "metadata": {},
   "outputs": [],
   "source": [
    "alpha = 0.05"
   ]
  },
  {
   "cell_type": "code",
   "execution_count": 5,
   "id": "2e950e6c",
   "metadata": {},
   "outputs": [],
   "source": [
    "def ztest(n,sample_mean,pop_mean,pop_sd,alternative):\n",
    "    z_score = (sample_mean - pop_mean)/(pop_sd/math.sqrt(n))\n",
    "    p_value = scipy.stats.norm.sf(z_score)\n",
    "    print(z_score)\n",
    "    print(p_value)\n",
    "    if(alternative == \"larger\" or alternative == \"smaller\"):\n",
    "        if(p_value <  alpha):\n",
    "            print(\"Reject Null Hypothesis\")\n",
    "        else:\n",
    "            print(\"Fail to Reject NUll Hypothesis\")\n",
    "    elif(alternative == \"two-sided\"):\n",
    "        if(p_value <  alpha/2):\n",
    "            print(\"Reject Null Hypothesis\")\n",
    "        else:\n",
    "            print(\"Fail to Reject NUll Hypothesis\")"
   ]
  },
  {
   "cell_type": "code",
   "execution_count": 6,
   "id": "a2c0a834",
   "metadata": {},
   "outputs": [
    {
     "name": "stdout",
     "output_type": "stream",
     "text": [
      "4.714045207910317\n",
      "1.2142337364879197e-06\n",
      "Reject Null Hypothesis\n"
     ]
    }
   ],
   "source": [
    "ztest(50,110,100,15,\"larger\")"
   ]
  },
  {
   "cell_type": "markdown",
   "id": "bd75e95c",
   "metadata": {},
   "source": [
    "Q.A Teacher claim that the mean score of students in his class is greater than\n",
    "82 with a standard deviation of 20.If a sample of 81 students was select with\n",
    "a mean score of 90 than check if there is enough evidence to support this claim\n",
    "at a 0.05 significance level?"
   ]
  },
  {
   "cell_type": "code",
   "execution_count": 7,
   "id": "124b9290",
   "metadata": {},
   "outputs": [
    {
     "name": "stdout",
     "output_type": "stream",
     "text": [
      "3.5999999999999996\n",
      "0.00015910859015753396\n",
      "Reject Null Hypothesis\n"
     ]
    }
   ],
   "source": [
    "ztest(81,90,82,20,\"larger\")"
   ]
  },
  {
   "cell_type": "code",
   "execution_count": null,
   "id": "9283a055",
   "metadata": {},
   "outputs": [],
   "source": []
  }
 ],
 "metadata": {
  "kernelspec": {
   "display_name": "Python 3 (ipykernel)",
   "language": "python",
   "name": "python3"
  },
  "language_info": {
   "codemirror_mode": {
    "name": "ipython",
    "version": 3
   },
   "file_extension": ".py",
   "mimetype": "text/x-python",
   "name": "python",
   "nbconvert_exporter": "python",
   "pygments_lexer": "ipython3",
   "version": "3.9.13"
  }
 },
 "nbformat": 4,
 "nbformat_minor": 5
}
